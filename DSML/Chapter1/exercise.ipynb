{
 "cells": [
  {
   "cell_type": "code",
   "execution_count": null,
   "metadata": {},
   "outputs": [],
   "source": [
    "# install the dependencies\n",
    "%pip install pandas\n",
    "%pip install matplotlib\n",
    "%pip install seaborn"
   ]
  },
  {
   "cell_type": "code",
   "execution_count": null,
   "metadata": {},
   "outputs": [],
   "source": [
    "# import the dependencies\n",
    "import pandas as pd"
   ]
  },
  {
   "cell_type": "code",
   "execution_count": null,
   "metadata": {},
   "outputs": [],
   "source": [
    "# read the data file\n",
    "mushroom = pd.read_csv('agaricus-lepiota.data')\n",
    "mushroom.head()"
   ]
  },
  {
   "cell_type": "code",
   "execution_count": null,
   "metadata": {},
   "outputs": [],
   "source": [
    "features = mushroom.columns\n",
    "print(features) # names of the features\n",
    "print(len(features)) # no of features => 23\n",
    "print(mushroom.info()) # datatypes of the features"
   ]
  },
  {
   "cell_type": "code",
   "execution_count": null,
   "metadata": {},
   "outputs": [],
   "source": [
    "# rename specific column names\n",
    "mushroom = mushroom.rename(columns={ 'p':'edibility', 'p.1':'odor' })\n",
    "mushroom.head()\n",
    "# another soln reinit mushroom.columns = [replace sepcific indices only]"
   ]
  },
  {
   "cell_type": "code",
   "execution_count": null,
   "metadata": {},
   "outputs": [],
   "source": [
    "# replace values from certain columns\n",
    "mushroom['odor'] = mushroom['odor'].replace({ 'a': 'almond', 'l': 'anise', 'c' : 'creosote', 'y' : 'fishy', 'f' : 'foul', 'm' : 'musty', 'p' : 'pungent', 's' : 'spicy', 'n' : 'none' })\n",
    "mushroom['edibility'] = mushroom['edibility'].replace({ 'e': 'edible', 'p': 'poisonous' })\n",
    "mushroom.head()"
   ]
  },
  {
   "cell_type": "code",
   "execution_count": null,
   "metadata": {},
   "outputs": [],
   "source": [
    "# contingency table\n",
    "mushroom_edibility_freq = pd.crosstab(mushroom.edibility, mushroom.odor, margins=True)\n",
    "print(mushroom_edibility_freq)\n",
    "print(mushroom_edibility_freq/len(mushroom)) # proportions"
   ]
  },
  {
   "cell_type": "code",
   "execution_count": null,
   "metadata": {},
   "outputs": [],
   "source": [
    "# avoidable odors -> creosote  fishy  foul  musty pungent  spicy, none(0.419549)\n",
    "# odorless proportion safe to eat -> 0.014773(all), from none itlsef((120*100)/3528)"
   ]
  }
 ],
 "metadata": {
  "interpreter": {
   "hash": "e6eefda26c09211c759b4f23d06c235c02db7d2c297791b800186284fe9cda27"
  },
  "kernelspec": {
   "display_name": "Python 3.8.2 ('.dsml': venv)",
   "language": "python",
   "name": "python3"
  },
  "language_info": {
   "codemirror_mode": {
    "name": "ipython",
    "version": 3
   },
   "file_extension": ".py",
   "mimetype": "text/x-python",
   "name": "python",
   "nbconvert_exporter": "python",
   "pygments_lexer": "ipython3",
   "version": "3.8.2"
  },
  "orig_nbformat": 4
 },
 "nbformat": 4,
 "nbformat_minor": 2
}
