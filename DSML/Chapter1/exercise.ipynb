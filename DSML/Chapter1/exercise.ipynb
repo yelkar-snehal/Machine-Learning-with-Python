{
 "cells": [
  {
   "cell_type": "code",
   "execution_count": null,
   "metadata": {},
   "outputs": [],
   "source": [
    "# install the dependencies\n",
    "%pip install pandas\n",
    "%pip install matplotlib\n",
    "%pip install seaborn\n",
    "# for reading xl\n",
    "%pip install xlrd "
   ]
  },
  {
   "cell_type": "code",
   "execution_count": null,
   "metadata": {},
   "outputs": [],
   "source": [
    "# import the dependencies\n",
    "import pandas as pd"
   ]
  },
  {
   "cell_type": "code",
   "execution_count": null,
   "metadata": {},
   "outputs": [],
   "source": [
    "# read the data file\n",
    "mushroom = pd.read_csv('agaricus-lepiota.data')\n",
    "mushroom.head()"
   ]
  },
  {
   "cell_type": "code",
   "execution_count": null,
   "metadata": {},
   "outputs": [],
   "source": [
    "features = mushroom.columns\n",
    "print(features) # names of the features\n",
    "print(len(features)) # no of features => 23\n",
    "print(mushroom.info()) # datatypes of the features"
   ]
  },
  {
   "cell_type": "code",
   "execution_count": null,
   "metadata": {},
   "outputs": [],
   "source": [
    "# rename specific column names\n",
    "mushroom = mushroom.rename(columns={ 'p':'edibility', 'p.1':'odor' })\n",
    "mushroom.head()\n",
    "# another soln reinit mushroom.columns = [replace sepcific indices only]"
   ]
  },
  {
   "cell_type": "code",
   "execution_count": null,
   "metadata": {},
   "outputs": [],
   "source": [
    "# replace values from certain columns\n",
    "mushroom['odor'] = mushroom['odor'].replace({ 'a': 'almond', 'l': 'anise', 'c' : 'creosote', 'y' : 'fishy', 'f' : 'foul', 'm' : 'musty', 'p' : 'pungent', 's' : 'spicy', 'n' : 'none' })\n",
    "mushroom['edibility'] = mushroom['edibility'].replace({ 'e': 'edible', 'p': 'poisonous' })\n",
    "mushroom.head()"
   ]
  },
  {
   "cell_type": "code",
   "execution_count": null,
   "metadata": {},
   "outputs": [],
   "source": [
    "# contingency table\n",
    "mushroom_edibility_freq = pd.crosstab(mushroom.edibility, mushroom.odor, margins=True)\n",
    "print(mushroom_edibility_freq)\n",
    "print(mushroom_edibility_freq/len(mushroom)) # proportions"
   ]
  },
  {
   "cell_type": "code",
   "execution_count": null,
   "metadata": {},
   "outputs": [],
   "source": [
    "# avoidable odors -> creosote  fishy  foul  musty pungent  spicy, none(0.419549)\n",
    "# odorless proportion safe to eat -> 0.014773(all), from none itlsef((120*100)/3528)"
   ]
  },
  {
   "cell_type": "code",
   "execution_count": null,
   "metadata": {},
   "outputs": [],
   "source": [
    "# read nutri data\n",
    "xls = 'http://www.biostatisticien.eu/springeR/nutrition_elderly.xls'\n",
    "nutri = pd.read_excel(xls)"
   ]
  },
  {
   "cell_type": "code",
   "execution_count": 21,
   "metadata": {},
   "outputs": [],
   "source": [
    "# modify type and values of the columns\n",
    "nutri['gender'] = nutri['gender'].replace({ 1:'Male', 2:'Female' }).astype('category')\n",
    "nutri['situation'] = nutri['situation'].replace({ 1:'Single', 2:'Living with spouse', 3:'Living with family', 4:'Living with someone else' }).astype('category')\n",
    "nutri['tea'] = nutri['tea'].astype('int')\n",
    "nutri['coffee'] = nutri['coffee'].astype('int')\n",
    "nutri['height'] = nutri['height'].astype('float')\n",
    "nutri['weight'] = nutri['weight'].astype('float')\n",
    "nutri['age'] = nutri['age'].astype('float')\n",
    "nutri['meat'] = nutri['meat'].replace({ 0:'Never', 1:'Less than once a week', 2:'Once a week', 3:'2-3 times a week', 4:'4-6 times a week', 5:'Every day' }).astype('category')\n",
    "nutri['fish'] = nutri['fish'].replace({ 0:'Never', 1:'Less than once a week', 2:'Once a week', 3:'2-3 times a week', 4:'4-6 times a week', 5:'Every day' }).astype('category')\n",
    "nutri['raw_fruit'] = nutri['raw_fruit'].replace({ 0:'Never', 1:'Less than once a week', 2:'Once a week', 3:'2-3 times a week', 4:'4-6 times a week', 5:'Every day' }).astype('category')\n",
    "nutri['cooked_fruit_veg'] = nutri['cooked_fruit_veg'].replace({ 0:'Never', 1:'Less than once a week', 2:'Once a week', 3:'2-3 times a week', 4:'4-6 times a week', 5:'Every day' }).astype('category')\n",
    "nutri['chocol'] = nutri['chocol'].replace({ 0:'Never', 1:'Less than once a week', 2:'Once a week', 3:'2-3 times a week', 4:'4-6 times a week', 5:'Every day' }).astype('category')\n",
    "nutri['fat'] = nutri['fat'].replace({ 1:'Butter', 2:'Margarine', 3:'Peanut oil', 4:'Sunflower oil', 5:'Olive oil', 6:'Mix of vegetable oils', 7:'Colza oil', 8:'Duck or goose fat' }).astype('category')"
   ]
  },
  {
   "cell_type": "code",
   "execution_count": 22,
   "metadata": {},
   "outputs": [],
   "source": [
    "nutri.to_csv('nutri.csv', index=False)"
   ]
  },
  {
   "cell_type": "code",
   "execution_count": 2,
   "metadata": {},
   "outputs": [
    {
     "data": {
      "text/html": [
       "<div>\n",
       "<style scoped>\n",
       "    .dataframe tbody tr th:only-of-type {\n",
       "        vertical-align: middle;\n",
       "    }\n",
       "\n",
       "    .dataframe tbody tr th {\n",
       "        vertical-align: top;\n",
       "    }\n",
       "\n",
       "    .dataframe thead th {\n",
       "        text-align: right;\n",
       "    }\n",
       "</style>\n",
       "<table border=\"1\" class=\"dataframe\">\n",
       "  <thead>\n",
       "    <tr style=\"text-align: right;\">\n",
       "      <th></th>\n",
       "      <th>Student</th>\n",
       "      <th>Time</th>\n",
       "      <th>value</th>\n",
       "    </tr>\n",
       "  </thead>\n",
       "  <tbody>\n",
       "    <tr>\n",
       "      <th>0</th>\n",
       "      <td>1.75</td>\n",
       "      <td>Before</td>\n",
       "      <td>85.0</td>\n",
       "    </tr>\n",
       "    <tr>\n",
       "      <th>1</th>\n",
       "      <td>2.00</td>\n",
       "      <td>Before</td>\n",
       "      <td>30.0</td>\n",
       "    </tr>\n",
       "    <tr>\n",
       "      <th>2</th>\n",
       "      <td>3.00</td>\n",
       "      <td>Before</td>\n",
       "      <td>100.0</td>\n",
       "    </tr>\n",
       "    <tr>\n",
       "      <th>3</th>\n",
       "      <td>4.00</td>\n",
       "      <td>Before</td>\n",
       "      <td>50.0</td>\n",
       "    </tr>\n",
       "    <tr>\n",
       "      <th>4</th>\n",
       "      <td>5.00</td>\n",
       "      <td>Before</td>\n",
       "      <td>60.0</td>\n",
       "    </tr>\n",
       "    <tr>\n",
       "      <th>5</th>\n",
       "      <td>1.75</td>\n",
       "      <td>After</td>\n",
       "      <td>NaN</td>\n",
       "    </tr>\n",
       "    <tr>\n",
       "      <th>6</th>\n",
       "      <td>2.00</td>\n",
       "      <td>After</td>\n",
       "      <td>50.0</td>\n",
       "    </tr>\n",
       "    <tr>\n",
       "      <th>7</th>\n",
       "      <td>3.00</td>\n",
       "      <td>After</td>\n",
       "      <td>100.0</td>\n",
       "    </tr>\n",
       "    <tr>\n",
       "      <th>8</th>\n",
       "      <td>4.00</td>\n",
       "      <td>After</td>\n",
       "      <td>52.0</td>\n",
       "    </tr>\n",
       "    <tr>\n",
       "      <th>9</th>\n",
       "      <td>5.00</td>\n",
       "      <td>After</td>\n",
       "      <td>65.0</td>\n",
       "    </tr>\n",
       "  </tbody>\n",
       "</table>\n",
       "</div>"
      ],
      "text/plain": [
       "   Student    Time  value\n",
       "0     1.75  Before   85.0\n",
       "1     2.00  Before   30.0\n",
       "2     3.00  Before  100.0\n",
       "3     4.00  Before   50.0\n",
       "4     5.00  Before   60.0\n",
       "5     1.75   After    NaN\n",
       "6     2.00   After   50.0\n",
       "7     3.00   After  100.0\n",
       "8     4.00   After   52.0\n",
       "9     5.00   After   65.0"
      ]
     },
     "execution_count": 2,
     "metadata": {},
     "output_type": "execute_result"
    }
   ],
   "source": [
    "# pandas melt ex\n",
    "values= [[1.75,85], [2,30,50],[3,100,100], [4,50,52], [5,60,65]]\n",
    "\n",
    "import pandas as pd \n",
    "df = pd. DataFrame (values, columns=['Student', 'Before', 'After'])\n",
    "df = pd.melt(df, id_vars=['Student'], var_name=\"Time\", value_vars=['Before', 'After'])\n",
    "\n",
    "df"
   ]
  },
  {
   "cell_type": "code",
   "execution_count": null,
   "metadata": {},
   "outputs": [],
   "source": []
  }
 ],
 "metadata": {
  "interpreter": {
   "hash": "e6eefda26c09211c759b4f23d06c235c02db7d2c297791b800186284fe9cda27"
  },
  "kernelspec": {
   "display_name": "Python 3.8.2 ('.dsml': venv)",
   "language": "python",
   "name": "python3"
  },
  "language_info": {
   "codemirror_mode": {
    "name": "ipython",
    "version": 3
   },
   "file_extension": ".py",
   "mimetype": "text/x-python",
   "name": "python",
   "nbconvert_exporter": "python",
   "pygments_lexer": "ipython3",
   "version": "3.8.2"
  },
  "orig_nbformat": 4
 },
 "nbformat": 4,
 "nbformat_minor": 2
}
