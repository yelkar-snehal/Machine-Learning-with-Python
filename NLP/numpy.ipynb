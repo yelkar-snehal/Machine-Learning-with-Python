{
 "cells": [
  {
   "cell_type": "markdown",
   "metadata": {},
   "source": [
    "# NumPy\n",
    "\n",
    "1. NumPy Arrays dtype\n",
    "2. and shape\n",
    "3. Common Array Operations\n",
    "4. Reshape and Update In-Place\n",
    "5. Combine Arrays\n",
    "6. Create Sample Data"
   ]
  },
  {
   "cell_type": "code",
   "execution_count": 54,
   "metadata": {},
   "outputs": [],
   "source": [
    "import numpy as np"
   ]
  },
  {
   "cell_type": "code",
   "execution_count": 163,
   "metadata": {},
   "outputs": [
    {
     "name": "stdout",
     "output_type": "stream",
     "text": [
      "[1 2 3]\n",
      "(3,)\n",
      "int64\n"
     ]
    }
   ],
   "source": [
    "a = np.array([1, 2, 3])\n",
    "print(a)\n",
    "print(a.shape)\n",
    "print(a.dtype)"
   ]
  },
  {
   "cell_type": "code",
   "execution_count": 56,
   "metadata": {},
   "outputs": [
    {
     "name": "stdout",
     "output_type": "stream",
     "text": [
      "[[0 2 4]\n",
      " [1 3 5]]\n",
      "(2, 3)\n",
      "int64\n"
     ]
    }
   ],
   "source": [
    "b = np.array([[0, 2, 4], [1, 3, 5]])\n",
    "print(b)\n",
    "print(b.shape)\n",
    "print(b.dtype)"
   ]
  },
  {
   "cell_type": "code",
   "execution_count": 57,
   "metadata": {},
   "outputs": [
    {
     "data": {
      "text/plain": [
       "array([0., 0., 0., 0., 0.])"
      ]
     },
     "execution_count": 57,
     "metadata": {},
     "output_type": "execute_result"
    }
   ],
   "source": [
    "\n",
    "np.zeros(5)"
   ]
  },
  {
   "cell_type": "code",
   "execution_count": 58,
   "metadata": {},
   "outputs": [
    {
     "data": {
      "text/plain": [
       "array([[1, 1, 1, 1],\n",
       "       [1, 1, 1, 1],\n",
       "       [1, 1, 1, 1]], dtype=int32)"
      ]
     },
     "execution_count": 58,
     "metadata": {},
     "output_type": "execute_result"
    }
   ],
   "source": [
    "\n",
    "np.ones(shape=(3, 4), dtype=np.int32)"
   ]
  },
  {
   "cell_type": "markdown",
   "metadata": {},
   "source": [
    "# Common Array Operations"
   ]
  },
  {
   "cell_type": "code",
   "execution_count": 59,
   "metadata": {},
   "outputs": [
    {
     "name": "stdout",
     "output_type": "stream",
     "text": [
      "[[0.  1.  2. ]\n",
      " [0.5 1.5 2.5]]\n",
      "(2, 3)\n",
      "float64\n"
     ]
    }
   ],
   "source": [
    "c = b * 0.5\n",
    "print(c)\n",
    "print(c.shape)\n",
    "print(c.dtype)"
   ]
  },
  {
   "cell_type": "code",
   "execution_count": 86,
   "metadata": {},
   "outputs": [
    {
     "name": "stdout",
     "output_type": "stream",
     "text": [
      "[[1.  3.  5. ]\n",
      " [1.5 3.5 5.5]]\n"
     ]
    },
    {
     "data": {
      "text/plain": [
       "(3,)"
      ]
     },
     "execution_count": 86,
     "metadata": {},
     "output_type": "execute_result"
    }
   ],
   "source": [
    "d = a + c\n",
    "print(d)\n",
    "a.shape\n",
    "# c.shape"
   ]
  },
  {
   "cell_type": "code",
   "execution_count": 61,
   "metadata": {},
   "outputs": [
    {
     "data": {
      "text/plain": [
       "array([1., 3., 5.])"
      ]
     },
     "execution_count": 61,
     "metadata": {},
     "output_type": "execute_result"
    }
   ],
   "source": [
    "\n",
    "d[0]"
   ]
  },
  {
   "cell_type": "code",
   "execution_count": 62,
   "metadata": {},
   "outputs": [
    {
     "data": {
      "text/plain": [
       "1.0"
      ]
     },
     "execution_count": 62,
     "metadata": {},
     "output_type": "execute_result"
    }
   ],
   "source": [
    "d[0, 0]"
   ]
  },
  {
   "cell_type": "code",
   "execution_count": 63,
   "metadata": {},
   "outputs": [
    {
     "data": {
      "text/plain": [
       "array([1. , 1.5])"
      ]
     },
     "execution_count": 63,
     "metadata": {},
     "output_type": "execute_result"
    }
   ],
   "source": [
    "d[:, 0]"
   ]
  },
  {
   "cell_type": "code",
   "execution_count": 64,
   "metadata": {},
   "outputs": [
    {
     "data": {
      "text/plain": [
       "19.5"
      ]
     },
     "execution_count": 64,
     "metadata": {},
     "output_type": "execute_result"
    }
   ],
   "source": [
    "d.sum()"
   ]
  },
  {
   "cell_type": "code",
   "execution_count": 65,
   "metadata": {},
   "outputs": [
    {
     "data": {
      "text/plain": [
       "3.25"
      ]
     },
     "execution_count": 65,
     "metadata": {},
     "output_type": "execute_result"
    }
   ],
   "source": [
    "d.mean()"
   ]
  },
  {
   "cell_type": "code",
   "execution_count": 66,
   "metadata": {
    "scrolled": true
   },
   "outputs": [
    {
     "data": {
      "text/plain": [
       "array([ 2.5,  6.5, 10.5])"
      ]
     },
     "execution_count": 66,
     "metadata": {},
     "output_type": "execute_result"
    }
   ],
   "source": [
    "d.sum(axis=0)\n",
    "# d.sum(axis = 1)"
   ]
  },
  {
   "cell_type": "code",
   "execution_count": 67,
   "metadata": {},
   "outputs": [
    {
     "data": {
      "text/plain": [
       "array([3. , 3.5])"
      ]
     },
     "execution_count": 67,
     "metadata": {},
     "output_type": "execute_result"
    }
   ],
   "source": [
    "d.mean(axis=1)"
   ]
  },
  {
   "cell_type": "markdown",
   "metadata": {},
   "source": [
    "## Reshape and Update In-Place"
   ]
  },
  {
   "cell_type": "code",
   "execution_count": 70,
   "metadata": {},
   "outputs": [
    {
     "name": "stdout",
     "output_type": "stream",
     "text": [
      "[ 0  1  2  3  4  5  6  7  8  9 10 11]\n"
     ]
    }
   ],
   "source": [
    "e = np.arange(12)\n",
    "print(e)\n",
    "# e.flags"
   ]
  },
  {
   "cell_type": "code",
   "execution_count": 71,
   "metadata": {},
   "outputs": [
    {
     "name": "stdout",
     "output_type": "stream",
     "text": [
      "[[ 0  1  2  3]\n",
      " [ 4  5  6  7]\n",
      " [ 8  9 10 11]]\n"
     ]
    }
   ],
   "source": [
    "# f is a view of contents of e\n",
    "f = e.reshape(3, 4)\n",
    "print(f)\n",
    "# f.flags"
   ]
  },
  {
   "cell_type": "code",
   "execution_count": 72,
   "metadata": {},
   "outputs": [
    {
     "data": {
      "text/plain": [
       "array([[ 0,  1,  2,  3],\n",
       "       [ 4,  5,  6,  7],\n",
       "       [ 8,  9, 10, 11]])"
      ]
     },
     "execution_count": 72,
     "metadata": {},
     "output_type": "execute_result"
    }
   ],
   "source": [
    "# f is also updated\n",
    "f"
   ]
  },
  {
   "cell_type": "code",
   "execution_count": 73,
   "metadata": {},
   "outputs": [
    {
     "data": {
      "text/plain": [
       "  C_CONTIGUOUS : True\n",
       "  F_CONTIGUOUS : False\n",
       "  OWNDATA : False\n",
       "  WRITEABLE : True\n",
       "  ALIGNED : True\n",
       "  WRITEBACKIFCOPY : False\n",
       "  UPDATEIFCOPY : False"
      ]
     },
     "execution_count": 73,
     "metadata": {},
     "output_type": "execute_result"
    }
   ],
   "source": [
    "# OWNDATA shows f does not own its data\n",
    "f.flags"
   ]
  },
  {
   "cell_type": "markdown",
   "metadata": {},
   "source": [
    "## Combine Arrays"
   ]
  },
  {
   "cell_type": "code",
   "execution_count": 117,
   "metadata": {},
   "outputs": [
    {
     "data": {
      "text/plain": [
       "array([1, 2, 3])"
      ]
     },
     "execution_count": 117,
     "metadata": {},
     "output_type": "execute_result"
    }
   ],
   "source": [
    "a"
   ]
  },
  {
   "cell_type": "code",
   "execution_count": 75,
   "metadata": {},
   "outputs": [
    {
     "data": {
      "text/plain": [
       "array([[0, 2, 4],\n",
       "       [1, 3, 5]])"
      ]
     },
     "execution_count": 75,
     "metadata": {},
     "output_type": "execute_result"
    }
   ],
   "source": [
    "b"
   ]
  },
  {
   "cell_type": "code",
   "execution_count": 76,
   "metadata": {},
   "outputs": [
    {
     "data": {
      "text/plain": [
       "array([[1. , 3. , 5. ],\n",
       "       [1.5, 3.5, 5.5]])"
      ]
     },
     "execution_count": 76,
     "metadata": {},
     "output_type": "execute_result"
    }
   ],
   "source": [
    "d"
   ]
  },
  {
   "cell_type": "code",
   "execution_count": 164,
   "metadata": {},
   "outputs": [
    {
     "data": {
      "text/plain": [
       "array([[1., 2., 3.],\n",
       "       [0., 0., 0.]])"
      ]
     },
     "execution_count": 164,
     "metadata": {},
     "output_type": "execute_result"
    }
   ],
   "source": [
    "# \n",
    "a = a.reshape(1, 3)\n",
    "a = np.append(a, [np.zeros(3)], axis = 0)\n",
    "a\n",
    "# np.array([np.zeros(3)]).shape\n",
    "# np.array(np.zeros(3)).shape"
   ]
  },
  {
   "cell_type": "code",
   "execution_count": 160,
   "metadata": {},
   "outputs": [
    {
     "data": {
      "text/plain": [
       "array([[1., 2., 3.],\n",
       "       [0., 0., 0.],\n",
       "       [1., 2., 3.],\n",
       "       [0., 0., 0.],\n",
       "       [1., 2., 3.],\n",
       "       [0., 0., 0.]])"
      ]
     },
     "execution_count": 160,
     "metadata": {},
     "output_type": "execute_result"
    }
   ],
   "source": [
    "np.concatenate([a, a, a])"
   ]
  },
  {
   "cell_type": "code",
   "execution_count": 78,
   "metadata": {},
   "outputs": [
    {
     "data": {
      "text/plain": [
       "array([[1. , 2. , 3. ],\n",
       "       [0. , 2. , 4. ],\n",
       "       [1. , 3. , 5. ],\n",
       "       [1. , 3. , 5. ],\n",
       "       [1.5, 3.5, 5.5]])"
      ]
     },
     "execution_count": 78,
     "metadata": {},
     "output_type": "execute_result"
    }
   ],
   "source": [
    "# Use broadcasting when needed to do this automatically\n",
    "np.vstack([a, b, d])\n",
    "# vertical"
   ]
  },
  {
   "cell_type": "code",
   "execution_count": 24,
   "metadata": {},
   "outputs": [
    {
     "data": {
      "text/plain": [
       "array([[0. , 2. , 4. , 1. , 3. , 5. ],\n",
       "       [1. , 3. , 5. , 1.5, 3.5, 5.5]])"
      ]
     },
     "execution_count": 24,
     "metadata": {},
     "output_type": "execute_result"
    }
   ],
   "source": [
    "# In machine learning, useful to enrich or \n",
    "# add new/concatenate features with hstack\n",
    "np.hstack([b, d])\n",
    "# horizontal"
   ]
  },
  {
   "cell_type": "code",
   "execution_count": 79,
   "metadata": {},
   "outputs": [
    {
     "name": "stdout",
     "output_type": "stream",
     "text": [
      "Collecting seaborn\n",
      "\u001b[?25l  Downloading https://files.pythonhosted.org/packages/a8/76/220ba4420459d9c4c9c9587c6ce607bf56c25b3d3d2de62056efe482dadc/seaborn-0.9.0-py3-none-any.whl (208kB)\n",
      "\u001b[K     |████████████████████████████████| 215kB 111kB/s eta 0:00:01\n",
      "\u001b[?25hRequirement already satisfied: matplotlib>=1.4.3 in /home/synerzip/snap/jupyter/common/lib/python3.7/site-packages (from seaborn) (3.1.2)\n",
      "Collecting scipy>=0.14.0 (from seaborn)\n",
      "\u001b[?25l  Downloading https://files.pythonhosted.org/packages/dd/82/c1fe128f3526b128cfd185580ba40d01371c5d299fcf7f77968e22dfcc2e/scipy-1.4.1-cp37-cp37m-manylinux1_x86_64.whl (26.1MB)\n",
      "\u001b[K     |████████████████████████████████| 26.1MB 17.1MB/s eta 0:00:01    |███████▉                        | 6.4MB 494kB/s eta 0:00:40\n",
      "\u001b[?25hRequirement already satisfied: numpy>=1.9.3 in /home/synerzip/snap/jupyter/common/lib/python3.7/site-packages (from seaborn) (1.18.0)\n",
      "Requirement already satisfied: pandas>=0.15.2 in /home/synerzip/snap/jupyter/common/lib/python3.7/site-packages (from seaborn) (0.25.3)\n",
      "Requirement already satisfied: kiwisolver>=1.0.1 in /home/synerzip/snap/jupyter/common/lib/python3.7/site-packages (from matplotlib>=1.4.3->seaborn) (1.1.0)\n",
      "Requirement already satisfied: python-dateutil>=2.1 in /snap/jupyter/6/lib/python3.7/site-packages (from matplotlib>=1.4.3->seaborn) (2.8.0)\n",
      "Requirement already satisfied: pyparsing!=2.0.4,!=2.1.2,!=2.1.6,>=2.0.1 in /home/synerzip/snap/jupyter/common/lib/python3.7/site-packages (from matplotlib>=1.4.3->seaborn) (2.4.5)\n",
      "Requirement already satisfied: cycler>=0.10 in /home/synerzip/snap/jupyter/common/lib/python3.7/site-packages (from matplotlib>=1.4.3->seaborn) (0.10.0)\n",
      "Requirement already satisfied: pytz>=2017.2 in /home/synerzip/snap/jupyter/common/lib/python3.7/site-packages (from pandas>=0.15.2->seaborn) (2019.3)\n",
      "Requirement already satisfied: setuptools in /snap/jupyter/6/lib/python3.7/site-packages (from kiwisolver>=1.0.1->matplotlib>=1.4.3->seaborn) (41.0.1)\n",
      "Requirement already satisfied: six>=1.5 in /snap/jupyter/6/lib/python3.7/site-packages (from python-dateutil>=2.1->matplotlib>=1.4.3->seaborn) (1.12.0)\n",
      "Installing collected packages: scipy, seaborn\n",
      "Successfully installed scipy-1.4.1 seaborn-0.9.0\n"
     ]
    }
   ],
   "source": [
    "!pip install seaborn"
   ]
  },
  {
   "cell_type": "markdown",
   "metadata": {},
   "source": [
    "## Create Sample Data"
   ]
  },
  {
   "cell_type": "code",
   "execution_count": 87,
   "metadata": {},
   "outputs": [],
   "source": [
    "%matplotlib inline\n",
    "\n",
    "import pylab as plt\n",
    "import seaborn\n",
    "\n",
    "seaborn.set()"
   ]
  },
  {
   "cell_type": "code",
   "execution_count": 144,
   "metadata": {},
   "outputs": [
    {
     "name": "stdout",
     "output_type": "stream",
     "text": [
      "[2.   2.25 2.5  2.75 3.  ]\n"
     ]
    },
    {
     "data": {
      "image/png": "[encoded data removed]",
      "text/plain": [
       "<Figure size 432x288 with 1 Axes>"
      ]
     },
     "metadata": {},
     "output_type": "display_data"
    }
   ],
   "source": [
    "# Create evenly spaced numbers over the specified interval\n",
    "x = np.linspace(3.0, 2.0, num=4)\n",
    "print(np.linspace(2.0, 3.0, num=5))\n",
    "plt.plot(x, 'o-',);\n",
    "plt.show()"
   ]
  },
  {
   "cell_type": "code",
   "execution_count": 191,
   "metadata": {},
   "outputs": [
    {
     "data": {
      "text/plain": [
       "array([71.90286613, 13.41976316, 16.03227095, 72.99160412, 90.24999082,\n",
       "       37.7633779 , 84.39039139, 73.5270014 ,  6.64996502, 19.16360012,\n",
       "       45.48343834, 38.59667561,  3.40456637, 36.27986063, 83.8438382 ,\n",
       "       24.81231333, 75.85787877, 60.50093346, 35.12839999, 90.79746134,\n",
       "       41.28810156, 67.39202937, 14.23817477, 97.90974512, 87.97484718,\n",
       "       82.58620342, 50.57488876,  3.73189743, 10.07117311, 79.05837139,\n",
       "       38.03320468, 64.20526741, 49.26530737, 54.69968749, 20.30628953,\n",
       "       79.79902934, 53.35563293, 41.57084931, 40.95161229, 47.66023019,\n",
       "       19.62655216, 50.76910005, 87.92422332, 82.91567443, 17.23921584,\n",
       "       77.79903572, 94.45416563, 90.50052997, 89.65341733, 58.5943013 ,\n",
       "        5.87269411, 40.10951906, 40.56969187, 84.18046111, 28.32645217,\n",
       "       87.4245378 , 59.22364566, 41.25139827, 73.70345954, 36.0180378 ,\n",
       "        4.81388205, 99.92465102, 34.32941906, 48.12627462, 23.70341083,\n",
       "       74.65937482, 35.50261167, 89.62219381, 56.42291831, 16.92558079,\n",
       "       21.05944145, 17.58104917, 39.05383   ,  8.55230609, 40.11212105,\n",
       "       31.31821987, 87.76387817, 32.36689088, 15.00180692, 27.31661661,\n",
       "       76.59019919, 48.36378391, 64.0759339 , 78.89016109, 85.76133391,\n",
       "       61.93456822,  9.83483985, 80.83444758, 29.28867038, 55.66999818,\n",
       "       94.66882505, 59.35232319, 30.29821895, 45.69706031, 75.11090181,\n",
       "       90.71403931, 78.97592155, 76.37548683, 54.27979186, 95.95468511,\n",
       "       43.77081609, 19.29483452, 51.93769255, 42.63925245, 28.00679784,\n",
       "       17.3649901 , 17.45511828, 76.44530651, 42.95921623, 82.10747054,\n",
       "       80.56432862, 75.23449415, 35.48653111, 97.19004138, 11.7242245 ,\n",
       "       97.1540477 , 26.89385027, 50.05665553, 86.98250354, 75.32626655,\n",
       "       33.73507058,  1.69414934, 85.45823724, 24.79441702, 59.74304188,\n",
       "       91.91896685, 82.08033899, 28.32494547, 55.03236887, 60.2117195 ,\n",
       "       63.77717919,  5.69282338, 40.38017982, 24.31998817, 22.46442211,\n",
       "       29.47977456, 66.31227779, 41.12835828, 55.21339478, 16.7882464 ,\n",
       "       66.03879749, 95.0401458 , 64.59465051, 95.92760701, 11.70681903,\n",
       "       74.19563031, 88.82687161, 45.34157717, 81.48348185, 48.03616177,\n",
       "        6.07241302, 88.85472665, 52.86108592, 82.14623559, 35.06591619,\n",
       "       34.42882492, 50.90988093, 98.06561811, 79.3866415 , 69.2339225 ,\n",
       "       85.61684265, 59.31690765, 75.86447956, 85.54415383, 26.54862779,\n",
       "       20.22581314, 25.8099261 , 41.26870894, 76.54653717, 96.52133257,\n",
       "       82.48214444,  4.3877338 , 25.29866216, 85.21845752, 68.67588648,\n",
       "       54.54408874, 42.24185212,  8.19223388, 28.89204074, 64.61669883,\n",
       "       49.14849101, 33.99032159, 81.29149517, 86.51659416, 54.24986665,\n",
       "       41.73240175, 72.28235672, 91.51505942, 60.30271051, 89.57831058,\n",
       "       65.64133775, 75.22016804,  4.45578321, 45.95670686, 42.65292793,\n",
       "       61.48561892, 64.7945459 , 73.44525831, 43.85021742, 39.97175622,\n",
       "       38.15124461, 21.66464564, 93.69488068, 20.16866181, 81.3564951 ,\n",
       "       79.68382026, 12.42265882, 45.47380776, 10.63271299, 85.7043652 ,\n",
       "       36.76380669, 66.40049563, 78.69966564, 96.01388684, 36.6145115 ,\n",
       "       17.54552456, 73.50087696, 99.7241    , 42.92902956, 53.34499479,\n",
       "       63.64122857, 42.55036055, 74.2872152 , 93.6647539 , 36.1301288 ,\n",
       "       51.94223243, 13.8761548 , 33.34263823, 33.65326551, 19.90081342,\n",
       "       48.67135387, 29.34053703, 84.92926545, 22.23361823, 28.43890275,\n",
       "       67.91554973, 89.63736134,  8.70659582, 97.43779529, 77.91402913,\n",
       "       75.99051938, 79.74801752, 91.26901879, 36.7047948 , 47.65477614,\n",
       "       99.89932932, 21.99984017, 65.64188368, 49.31459989, 39.03747751,\n",
       "       58.34496755,  4.26010765, 40.20302642, 52.0192045 , 42.96511437,\n",
       "       86.24976935, 46.0400782 , 59.93178345, 98.52468684, 93.97391566,\n",
       "       93.0022915 , 32.13538839, 77.47148425, 12.0144051 , 35.12094191,\n",
       "       13.52031044, 87.55130922, 52.14512182, 46.65710936, 53.84312596,\n",
       "       56.57015633, 29.6878046 , 37.19347518, 14.14180946, 19.53771874,\n",
       "       13.058251  ,  2.60027014, 61.38083495, 14.08557229, 13.92693171,\n",
       "       23.15154018, 24.89883989, 73.9907655 , 82.41532737, 21.63033431,\n",
       "       40.0616443 , 85.43854131, 60.57240099, 77.39635998, 98.54617925,\n",
       "       32.06593181,  2.61011269, 46.65865386, 81.56397252, 53.60111804,\n",
       "       48.1831701 , 62.18497608, 59.6390957 , 35.70180523, 92.48345141,\n",
       "       24.88802411, 60.63807007, 83.01645813, 14.5384013 , 47.27824957,\n",
       "       14.34324528, 76.52279867, 35.8205522 , 96.49679216,  8.68100733,\n",
       "       17.37204407, 56.60238083, 58.55770671, 54.74128726, 29.06869838,\n",
       "       46.49296242, 52.92959551, 19.61624752, 33.56478601, 65.09312441,\n",
       "       67.15626989, 28.31149729, 27.84686429,  2.63495234, 54.89471875,\n",
       "       16.22427117, 32.76714721, 72.39336612, 56.67212191, 42.96901351,\n",
       "       16.95110575, 98.69425451,  8.56477331, 51.55922984, 10.9169059 ,\n",
       "       98.48464205, 70.11498563, 69.88507326, 52.47934931, 98.93926365,\n",
       "       36.48043089, 90.98470502, 68.72080252, 38.40153691, 33.68144975,\n",
       "       20.85528931, 37.45902984, 99.64707855, 70.35511389, 17.75043864,\n",
       "       55.2167557 , 29.24555314, 64.05599253, 35.80204495, 58.87292229,\n",
       "       87.08554426,  9.13387613, 34.5478707 ,  4.208597  ,  6.91641387,\n",
       "       65.18985214,  6.03721453, 76.74284621,  4.15411978, 96.47339399,\n",
       "       40.28245405, 97.15502405, 53.34006196, 75.76756272, 33.81364509,\n",
       "       58.54958848, 23.98282625, 30.58873897, 44.24140427, 93.91926182,\n",
       "       11.45220013, 39.98367918, 95.85074735, 24.24111718, 38.64234768,\n",
       "       51.63516257, 64.79865338, 62.60419919, 73.11990959, 53.41043255,\n",
       "       39.20764846, 23.29927422, 61.85858259, 43.30463091, 54.81674916,\n",
       "       97.06032832, 21.69062803, 69.00089424, 34.2807821 , 16.45306853,\n",
       "        6.63676398, 25.42138748, 18.03317209,  7.91596404, 65.14320373,\n",
       "        4.32255707, 93.56374122, 45.14547037, 59.93190682, 18.53450551,\n",
       "       87.14782869,  9.88405562, 89.34991719, 12.14928242, 39.1076266 ,\n",
       "       42.66823914, 60.36322439, 73.36934284, 12.37410023, 36.85253611,\n",
       "       22.00989536, 84.99346435, 82.13509063, 11.3699482 , 13.1899278 ,\n",
       "       44.81716602, 28.86304261, 55.68850698, 65.03111515, 42.36051405,\n",
       "       47.53881798, 97.89108961, 99.76302335, 26.84329908, 56.84883317,\n",
       "       28.47654606, 40.42543828, 40.2315209 , 30.43334321, 93.08805393,\n",
       "       49.92640067, 40.72105635, 98.04060647, 78.23992644, 97.84768307,\n",
       "       87.29419164, 36.40979692, 34.77736639, 10.09894035, 94.14409897,\n",
       "       85.56106161, 72.48203348, 74.32043562, 98.56628221, 27.39596678,\n",
       "       78.88647878, 79.33655849, 71.11535509, 59.02151362, 26.62591025,\n",
       "       33.59511487, 84.89204027, 62.79204617, 40.37883847, 51.43044051,\n",
       "       30.53744396, 76.86543876,  5.21539775, 30.03289725, 26.22750764,\n",
       "       62.42441972, 85.06863079, 56.42299643,  8.86130692, 31.60946029,\n",
       "       44.29872314, 94.64981051, 64.87671623, 46.73739172, 76.19646514,\n",
       "       82.18072481, 17.38794808, 45.7383034 , 67.51385611, 36.27176117,\n",
       "       41.55249974, 86.40410204, 35.12283738, 16.85630112, 98.49565397,\n",
       "       44.42600484, 90.00749651, 92.86098984, 93.33856442,  5.26206444,\n",
       "       35.17735313, 88.99715806, 11.58865037, 96.07603523, 51.37097078,\n",
       "       47.75486767, 67.14694705, 78.82007366, 62.1044965 , 73.7239542 ,\n",
       "       61.7508612 , 11.46933451,  3.54986098, 63.91258669, 36.1843092 ,\n",
       "       68.92747906, 36.71560431, 93.69326144, 59.03391255, 39.22781169,\n",
       "       72.23351555, 70.57217025, 89.59709408, 69.83700532, 68.02843304,\n",
       "       24.29494635, 75.3030732 , 61.73109531, 50.08719499, 21.96450192,\n",
       "        6.31284919, 45.14452753, 42.6109493 , 21.77252751, 23.8330503 ,\n",
       "       41.94929417, 50.34479473, 84.78747249, 96.82508994, 11.74957266,\n",
       "       93.52010676, 21.46704684, 31.07822232, 24.16721716, 39.20266058,\n",
       "       70.24588109, 17.47333899, 53.31527785, 81.43374248, 79.94586266,\n",
       "       59.6116665 ,  4.59624893, 58.15297845, 73.37940511, 64.73369199,\n",
       "       27.80949986, 16.26697394, 18.61781088, 97.71195029, 48.27899458,\n",
       "       55.29856899, 25.85355468, 52.37585119, 21.6725797 , 82.68708885,\n",
       "       41.27825423, 77.57828178, 57.84499911,  3.41393359, 64.81617331,\n",
       "       32.29988021, 88.89180159, 43.79450952,  2.77480942, 29.89732594,\n",
       "       56.95131234, 94.04999427, 93.4634902 , 19.74303423, 81.16356398,\n",
       "       65.81616869, 44.10595642, 84.96118814, 42.28146927, 37.23708205,\n",
       "       92.14693138, 15.2193371 , 55.59956288, 49.45142066, 97.67694353,\n",
       "        8.37624251, 26.4173976 , 52.18666923, 52.60919105,  7.47026544,\n",
       "       97.26049293, 33.0206455 , 28.62614259, 27.08777266, 57.07231022,\n",
       "       77.47659842, 45.87382136, 84.96749757, 63.88774488, 74.15072102,\n",
       "       62.94987602, 21.60779967, 94.83359592,  1.50694386, 36.30059367,\n",
       "        8.75862381, 71.76278034, 26.47020517, 79.147354  , 76.95534499,\n",
       "       44.89609419, 22.31586808, 12.37305297, 48.69499046, 58.69280104,\n",
       "       17.89772293, 97.57956847, 35.01758603, 34.75131687, 76.30733977,\n",
       "       20.0685945 , 87.46371634, 11.53097809, 43.37277609, 53.1735434 ,\n",
       "       42.49488535, 68.2166587 , 31.30142818, 28.32885687,  6.98113992,\n",
       "       93.72808584, 12.88896869, 20.61963116, 35.25600576, 93.50533821,\n",
       "       26.73722394,  3.7556214 , 89.63018929, 54.16390845, 67.45523283,\n",
       "       92.73331332, 57.02689801, 98.67800306, 60.97315328, 80.0492455 ,\n",
       "       75.1657968 , 98.15064097, 26.97312314, 98.40679793, 54.51277118,\n",
       "       95.30502086, 69.35913449, 21.71960687,  2.88462719, 69.5882053 ,\n",
       "       38.97694728, 12.88590422, 89.0796845 , 42.48169068, 87.23084191,\n",
       "       67.84594061, 60.20022441,  7.41823147, 25.5756865 , 25.18803525,\n",
       "       39.95074899, 42.84425009, 15.22674051, 27.25661085, 57.15156125,\n",
       "       39.10561102, 93.34884234, 70.61852644,  5.9300227 , 75.75587246,\n",
       "       37.31776495, 52.6007873 ,  6.81529282, 41.54796138, 62.73570031,\n",
       "       45.47908011, 79.92736908, 81.96507184, 93.26214322, 99.55477566,\n",
       "       70.20146211, 95.92697671, 36.75157856,  7.8424557 ,  4.4166138 ,\n",
       "       50.67033819, 45.79063692,  8.46359095, 31.22994181, 35.80549803,\n",
       "       37.0640948 , 37.83641947, 10.27608866, 42.60808444, 83.98394266,\n",
       "       35.94201657, 28.58961351, 47.38529615, 96.94145514, 28.90946456,\n",
       "       16.19558475, 54.55369092, 46.89695687,  9.84086236, 37.79262038,\n",
       "       12.3659768 , 51.66838212, 70.13092839, 35.695922  , 99.35352604,\n",
       "       70.70391288, 95.71374209, 72.53820466, 53.80269242,  4.04408856,\n",
       "       76.19327248,  4.13529806, 77.38627869, 56.71906008, 61.42561089,\n",
       "       84.6845162 , 94.70315853, 68.55978834, 55.79540175,  3.30939184,\n",
       "       87.99930916, 73.41211567, 33.10676077, 77.06395634, 29.54469183,\n",
       "       66.78424846, 46.00030447, 73.38888385, 51.71994234, 91.25159688,\n",
       "       29.73044274, 20.01183001, 50.06318534, 20.46545047, 83.55154873,\n",
       "       76.25543598, 85.14394381, 65.59094502,  8.05832954, 99.27894147,\n",
       "       63.0928162 , 97.62300103, 57.17377325, 61.29771656, 16.05581449,\n",
       "       23.54382401, 39.22673873, 28.5438091 , 38.8827353 , 98.80152225,\n",
       "       80.82642005, 92.93377503, 78.68769347, 89.04902791, 80.25593258,\n",
       "       15.36561282, 59.70310366,  9.63898896, 80.38254098, 82.97281701,\n",
       "       99.28476699, 44.19640442, 18.93167503, 30.19484478, 13.50015883,\n",
       "       36.55889734, 22.08806342, 46.302941  , 48.42756832, 12.68307367,\n",
       "       43.29703632, 87.44692042,  1.42193371, 19.54819248, 43.60164661,\n",
       "       39.48095581, 40.66604035, 94.55288477,  8.27214002, 45.13263414,\n",
       "       94.86037788, 13.03333667,  4.61692991, 27.77378309, 23.92361662,\n",
       "       50.30435478, 11.87136806, 13.83926762, 60.33157399, 82.32811165,\n",
       "       94.7988412 , 37.31111975, 33.34051005, 36.66617727,  3.60241106,\n",
       "       25.30168586,  1.49020762, 30.53624478, 40.0393174 , 27.73057312,\n",
       "       44.59326609, 84.57614131, 11.97676128,  2.21878217, 96.62836693,\n",
       "       66.43287507,  4.08147715, 89.43407186, 88.92972523, 46.67837784,\n",
       "        3.21182068, 14.30140161, 28.64414474, 78.90520076, 38.32905655,\n",
       "       80.7927538 , 34.45578765, 85.23581851,  4.54637624, 93.15775435,\n",
       "       11.31755146, 86.93575195, 14.77508694, 20.55453428, 54.81064358,\n",
       "       23.93410101, 88.06848342, 62.89327753, 74.34989558, 46.70432735,\n",
       "       76.04508996,  6.56225598, 46.21839222, 54.48699809, 59.82371937,\n",
       "       52.95859015, 63.65661921, 90.10953529, 70.36267822, 75.76460277,\n",
       "       79.45651081, 71.26851295, 70.0753081 , 19.22307176, 81.62438435,\n",
       "        7.67492969, 28.17190531,  1.34178102, 32.44969467, 58.70166306,\n",
       "       69.59909268, 89.2491593 , 60.01961952, 31.18228527, 46.58230771,\n",
       "       55.749877  , 23.49655212, 85.33404708, 68.02541485, 44.46559947,\n",
       "        6.18619395, 56.2674786 ,  9.95058713, 45.85746236, 74.86870048,\n",
       "       30.13206516, 22.73780954, 64.96425852, 56.4452045 ,  1.61354779,\n",
       "       77.47750764, 74.24955544, 93.36469702, 40.65128969, 86.95142609,\n",
       "       81.9069501 , 98.07107632, 15.24317763, 41.84880767, 73.99833693,\n",
       "       11.55954483, 24.68764374,  4.19955507, 78.10090966, 95.56663614,\n",
       "        2.32835675, 17.62115332, 98.53068547, 63.8203046 , 19.35630301,\n",
       "       59.45639191, 55.05162861, 60.43607504, 65.88592075, 70.41333428,\n",
       "       77.92072473, 59.44380003, 22.58391126, 83.46049957, 94.3083803 ,\n",
       "       37.84559363,  2.26778749, 26.3994764 , 57.33664913, 98.33472847,\n",
       "       90.96818925,  1.31308107, 97.94968186, 27.86217568, 25.07226808,\n",
       "       10.46867635, 72.22811511, 16.11544116, 41.97551948, 59.48088845,\n",
       "       42.06677222, 42.58000966, 49.35791985, 90.58917836, 42.83424894,\n",
       "       31.81986544, 31.67331563,  4.1630699 , 49.93340934, 65.923227  ,\n",
       "       31.2767867 ,  6.89033397, 35.61281181, 88.04585557, 43.56403134,\n",
       "       31.93321951, 84.76262183, 33.51842389, 20.98884103, 93.26545529,\n",
       "       79.77534831,  5.78631628, 37.81949273, 61.87295457, 39.28884008,\n",
       "       34.24094489, 81.2624057 , 82.25285078, 27.34468512, 70.66176087,\n",
       "       68.63250468, 95.11698985, 17.02480095, 61.72399492, 71.0229145 ,\n",
       "        4.59949183, 29.02470288, 13.97073284, 76.67500555, 68.13122447,\n",
       "       89.21633297, 25.92036369, 39.14357383, 86.35435301, 87.81407265,\n",
       "       54.6937666 , 16.15240305, 93.52906786, 44.22159237,  1.50644114,\n",
       "       68.40205634, 58.53885874, 17.46312055, 17.71511868, 33.113835  ,\n",
       "       36.08238935, 33.88088429, 52.04591097,  7.0073273 ,  4.60118246,\n",
       "       27.85512967, 36.25528904, 31.55222696, 78.08288429, 11.83180421,\n",
       "        2.41358001, 79.98675136, 82.77254595, 77.06276568, 50.85173078,\n",
       "       25.57444023, 52.76427547, 19.64948248, 17.42536388, 28.90776524,\n",
       "       27.80208554, 95.85076876,  9.7781244 , 70.0896889 , 51.20599167])"
      ]
     },
     "execution_count": 191,
     "metadata": {},
     "output_type": "execute_result"
    }
   ],
   "source": [
    "# Create sample data, add some noise\n",
    "x = np.random.uniform(1, 100, 1000)\n",
    "# len(x)\n",
    "x\n",
    "# z = np.random.normal(1, 100, 1000)\n",
    "# z\n",
    "# y = np.log(x) + np.random.normal(0, .3, 1000)\n",
    "# y\n",
    "\n",
    "# plt.scatter(x, y)\n",
    "# plt.show()"
   ]
  },
  {
   "cell_type": "code",
   "execution_count": 180,
   "metadata": {},
   "outputs": [
    {
     "name": "stdout",
     "output_type": "stream",
     "text": [
      "float64\n"
     ]
    }
   ],
   "source": [
    "x = np.array([1, 2,1,2,3.2])\n",
    "print(x.dtype)"
   ]
  },
  {
   "cell_type": "code",
   "execution_count": 91,
   "metadata": {},
   "outputs": [],
   "source": [
    "# https://docs.scipy.org/doc/numpy/reference/generated/numpy.linspace.html"
   ]
  },
  {
   "cell_type": "code",
   "execution_count": 92,
   "metadata": {},
   "outputs": [
    {
     "data": {
      "text/plain": [
       "array([2.  , 2.25, 2.5 , 2.75, 3.  ])"
      ]
     },
     "execution_count": 92,
     "metadata": {},
     "output_type": "execute_result"
    }
   ],
   "source": [
    "np.linspace(2.0, 3.0, num=5)\n",
    "# array([2.  , 2.25, 2.5 , 2.75, 3.  ])\n",
    "# >>> np.linspace(2.0, 3.0, num=5, endpoint=False)\n",
    "# array([2. ,  2.2,  2.4,  2.6,  2.8])\n",
    "# >>> np.linspace(2.0, 3.0, num=5, retstep=True)\n",
    "# (array([2.  ,  2.25,  2.5 ,  2.75,  3.  ]), 0.25)"
   ]
  },
  {
   "cell_type": "code",
   "execution_count": 189,
   "metadata": {},
   "outputs": [
    {
     "data": {
      "text/plain": [
       "array([10.09465179, 23.09677556, -1.74175665, -7.2565223 , 18.4825355 ,\n",
       "        2.31475022, 11.00679393, 11.46059059, 10.54060319, -7.51645564])"
      ]
     },
     "execution_count": 189,
     "metadata": {},
     "output_type": "execute_result"
    }
   ],
   "source": [
    "a = np.random.normal(1,10,10)\n",
    "a"
   ]
  },
  {
   "cell_type": "code",
   "execution_count": null,
   "metadata": {},
   "outputs": [],
   "source": []
  }
 ],
 "metadata": {
  "kernelspec": {
   "display_name": "Python 3",
   "language": "python",
   "name": "python3"
  },
  "language_info": {
   "codemirror_mode": {
    "name": "ipython",
    "version": 3
   },
   "file_extension": ".py",
   "mimetype": "text/x-python",
   "name": "python",
   "nbconvert_exporter": "python",
   "pygments_lexer": "ipython3",
   "version": "3.7.3"
  }
 },
 "nbformat": 4,
 "nbformat_minor": 2
}
